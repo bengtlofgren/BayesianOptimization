{
 "cells": [
  {
   "cell_type": "markdown",
   "metadata": {},
   "source": [
    "# Basic tour of the Bayesian Optimization package\n",
    "\n",
    "This is a constrained global optimization package built upon bayesian inference and gaussian process, that attempts to find the maximum value of an unknown function in as few iterations as possible. This technique is particularly suited for optimization of high cost functions, situations where the balance between exploration and exploitation is important.\n",
    "\n",
    "Bayesian optimization works by constructing a posterior distribution of functions (gaussian process) that best describes the function you want to optimize. As the number of observations grows, the posterior distribution improves, and the algorithm becomes more certain of which regions in parameter space are worth exploring and which are not, as seen in the picture below.\n",
    "\n",
    "As you iterate over and over, the algorithm balances its needs of exploration and exploitation taking into account what it knows about the target function. At each step a Gaussian Process is fitted to the known samples (points previously explored), and the posterior distribution, combined with a exploration strategy (such as UCB (Upper Confidence Bound), or EI (Expected Improvement)), are used to determine the next point that should be explored (see the gif below).\n",
    "\n",
    "This process is designed to minimize the number of steps required to find a combination of parameters that are close to the optimal combination. To do so, this method uses a proxy optimization problem (finding the maximum of the acquisition function) that, albeit still a hard problem, is cheaper (in the computational sense) and common tools can be employed. Therefore Bayesian Optimization is most adequate for situations where sampling the function to be optimized is a very expensive endeavor. See the references for a proper discussion of this method."
   ]
  },
  {
   "cell_type": "markdown",
   "metadata": {},
   "source": [
    "## 1. Specifying the function to be optimized\n",
    "\n",
    "This is a function optimization package, therefore the first and most important ingreedient is, of course, the function to be optimized.\n",
    "\n",
    "**DISCLAIMER:** We know exactly how the output of the function below depends on its parameter. Obviously this is just an example, and you shouldn't expect to know it in a real scenario. However, it should be clear that you don't need to. All you need in order to use this package (and more generally, this technique) is a function `f` that takes a known set of parameters and outputs a real number."
   ]
  },
  {
   "cell_type": "code",
   "execution_count": 1,
   "metadata": {},
   "outputs": [],
   "source": [
    "def black_box_function(x, y):\n",
    "    \"\"\"Function with unknown internals we wish to maximize.\n",
    "\n",
    "    This is just serving as an example, for all intents and\n",
    "    purposes think of the internals of this function, i.e.: the process\n",
    "    which generates its output values, as unknown.\n",
    "    \"\"\"\n",
    "    return -x ** 2 - (y - 1) ** 2 + 1"
   ]
  },
  {
   "cell_type": "markdown",
   "metadata": {},
   "source": [
    "## 2. Getting Started\n",
    "\n",
    "All we need to get started is to instanciate a `BayesianOptimization` object specifying a function to be optimized `f`, and its parameters with their corresponding bounds, `pbounds`. This is a constrained optimization technique, so you must specify the minimum and maximum values that can be probed for each parameter in order for it to work"
   ]
  },
  {
   "cell_type": "code",
   "execution_count": 4,
   "metadata": {},
   "outputs": [
    {
     "name": "stdout",
     "output_type": "stream",
     "text": [
      "/Users/uknowit/DSML/BayesianOptimization\n"
     ]
    }
   ],
   "source": [
    "import os\n",
    "import sys\n",
    "module_path = os.path.abspath(os.path.join('../'))\n",
    "if module_path not in sys.path:\n",
    "    print(module_path)\n",
    "    sys.path.append(module_path)\n",
    "from bayes_opt import BayesianOptimization"
   ]
  },
  {
   "cell_type": "code",
   "execution_count": 5,
   "metadata": {},
   "outputs": [],
   "source": [
    "# Bounded region of parameter space\n",
    "pbounds = {'x': (2, 4), 'y': (-3, 3)}"
   ]
  },
  {
   "cell_type": "code",
   "execution_count": 7,
   "metadata": {},
   "outputs": [],
   "source": [
    "optimizer = BayesianOptimization(\n",
    "    f=black_box_function,\n",
    "    pbounds=pbounds,\n",
    "    verbose=2, # verbose = 1 prints only when a maximum is observed, verbose = 0 is silent\n",
    "    random_state=1,\n",
    ")"
   ]
  },
  {
   "cell_type": "markdown",
   "metadata": {},
   "source": [
    "The BayesianOptimization object will work out of the box without much tuning needed. The main method you should be aware of is `maximize`, which does exactly what you think it does.\n",
    "\n",
    "There are many parameters you can pass to maximize, nonetheless, the most important ones are:\n",
    "- `n_iter`: How many steps of bayesian optimization you want to perform. The more steps the more likely to find a good maximum you are.\n",
    "- `init_points`: How many steps of **random** exploration you want to perform. Random exploration can help by diversifying the exploration space."
   ]
  },
  {
   "cell_type": "code",
   "execution_count": 16,
   "metadata": {},
   "outputs": [
    {
     "name": "stdout",
     "output_type": "stream",
     "text": [
      "|   iter    |  target   |     x     |     y     |\n",
      "-------------------------------------------------\n",
      "| \u001b[0m 40      \u001b[0m | \u001b[0m-14.97   \u001b[0m | \u001b[0m 3.916   \u001b[0m | \u001b[0m 0.199   \u001b[0m |\n",
      "| \u001b[0m 41      \u001b[0m | \u001b[0m-14.89   \u001b[0m | \u001b[0m 3.384   \u001b[0m | \u001b[0m-1.107   \u001b[0m |\n",
      "| \u001b[0m 42      \u001b[0m | \u001b[0m-3.0     \u001b[0m | \u001b[0m 2.0     \u001b[0m | \u001b[0m 0.9982  \u001b[0m |\n",
      "| \u001b[0m 43      \u001b[0m | \u001b[0m-3.0     \u001b[0m | \u001b[0m 2.0     \u001b[0m | \u001b[0m 0.9991  \u001b[0m |\n",
      "| \u001b[0m 44      \u001b[0m | \u001b[0m-3.0     \u001b[0m | \u001b[0m 2.0     \u001b[0m | \u001b[0m 1.002   \u001b[0m |\n",
      "=================================================\n"
     ]
    }
   ],
   "source": [
    "optimizer.maximize(\n",
    "    init_points=2,\n",
    "    n_iter=3,\n",
    ")"
   ]
  },
  {
   "cell_type": "markdown",
   "metadata": {},
   "source": [
    "The best combination of parameters and target value found can be accessed via the property `bo.max`."
   ]
  },
  {
   "cell_type": "code",
   "execution_count": 15,
   "metadata": {},
   "outputs": [
    {
     "name": "stdout",
     "output_type": "stream",
     "text": [
      "{'target': -3.0000000028166216, 'params': {'x': 2.0, 'y': 1.0000530718527405}}\n"
     ]
    }
   ],
   "source": [
    "print(optimizer.max)"
   ]
  },
  {
   "cell_type": "markdown",
   "metadata": {},
   "source": [
    "While the list of all parameters probed and their corresponding target values is available via the property `bo.res`."
   ]
  },
  {
   "cell_type": "code",
   "execution_count": 17,
   "metadata": {},
   "outputs": [
    {
     "name": "stdout",
     "output_type": "stream",
     "text": [
      "Iteration 0: \n",
      "\t{'target': -7.135455292718879, 'params': {'x': 2.8340440094051482, 'y': 1.3219469606529488}}\n",
      "Iteration 1: \n",
      "\t{'target': -7.779531005607566, 'params': {'x': 2.0002287496346898, 'y': -1.1860045642089614}}\n",
      "Iteration 2: \n",
      "\t{'target': -7.109925819441113, 'params': {'x': 2.2175526295255183, 'y': -0.7867249801593896}}\n",
      "Iteration 3: \n",
      "\t{'target': -12.397162416009818, 'params': {'x': 3.660003815774634, 'y': 0.9608275029525108}}\n",
      "Iteration 4: \n",
      "\t{'target': -6.999472814518675, 'params': {'x': 2.2303920156083024, 'y': -0.7392021938893159}}\n",
      "Iteration 5: \n",
      "\t{'target': -16.134894722612252, 'params': {'x': 2.2935117816342263, 'y': -2.445968431387213}}\n",
      "Iteration 6: \n",
      "\t{'target': -8.340778037007604, 'params': {'x': 2.3725204227553416, 'y': -0.9266356377417138}}\n",
      "Iteration 7: \n",
      "\t{'target': -3.188551285401644, 'params': {'x': 2.0012512046414717, 'y': 0.5715785937622844}}\n",
      "Iteration 8: \n",
      "\t{'target': -6.984707591498272, 'params': {'x': 2.0, 'y': 2.996173236845508}}\n",
      "Iteration 9: \n",
      "\t{'target': -3.302337372449223, 'params': {'x': 2.0, 'y': 1.5498521368961142}}\n",
      "Iteration 10: \n",
      "\t{'target': -7.392279298427363, 'params': {'x': 2.79353494846134, 'y': 0.23290040402014167}}\n",
      "Iteration 11: \n",
      "\t{'target': -7.068843753868606, 'params': {'x': 2.8383890288065894, 'y': 1.1113170023805568}}\n",
      "Iteration 12: \n",
      "\t{'target': -3.004213197675557, 'params': {'x': 2.0, 'y': 1.0649091493978862}}\n",
      "Iteration 13: \n",
      "\t{'target': -3.0198007408209726, 'params': {'x': 2.0, 'y': 0.85928489483722}}\n",
      "Iteration 14: \n",
      "\t{'target': -3.0455512140679764, 'params': {'x': 2.0, 'y': 1.2134273039420607}}\n",
      "Iteration 15: \n",
      "\t{'target': -6.412432296144895, 'params': {'x': 2.408904499463035, 'y': 2.268704618345673}}\n",
      "Iteration 16: \n",
      "\t{'target': -3.2226211374385345, 'params': {'x': 2.0547751863958523, 'y': 1.0228050610704136}}\n",
      "Iteration 17: \n",
      "\t{'target': -3.0002062505024156, 'params': {'x': 2.0, 'y': 0.9856385758918037}}\n",
      "Iteration 18: \n",
      "\t{'target': -3.0000698503638095, 'params': {'x': 2.0, 'y': 0.9916423469915463}}\n",
      "Iteration 19: \n",
      "\t{'target': -3.000035628174234, 'params': {'x': 2.0, 'y': 0.994031065904699}}\n",
      "Iteration 20: \n",
      "\t{'target': -7.454735524570369, 'params': {'x': 2.834609604734254, 'y': 0.3521389706745097}}\n",
      "Iteration 21: \n",
      "\t{'target': -12.105849201995525, 'params': {'x': 2.2807738771904678, 'y': -1.8113910654907273}}\n",
      "Iteration 22: \n",
      "\t{'target': -15.24526561645268, 'params': {'x': 3.6014891373510736, 'y': 2.809569454316385}}\n",
      "Iteration 23: \n",
      "\t{'target': -5.924028484985282, 'params': {'x': 2.6268483563184857, 'y': 1.1539356940158845}}\n",
      "Iteration 24: \n",
      "\t{'target': -3.0000041939515434, 'params': {'x': 2.0, 'y': 1.0020479139492255}}\n",
      "Iteration 25: \n",
      "\t{'target': -3.0000019568498653, 'params': {'x': 2.0, 'y': 1.0013988744994342}}\n",
      "Iteration 26: \n",
      "\t{'target': -3.0000006197870857, 'params': {'x': 2.0, 'y': 1.0007872655749368}}\n",
      "Iteration 27: \n",
      "\t{'target': -14.953784121109802, 'params': {'x': 3.7527783045920766, 'y': 2.3676399810230837}}\n",
      "Iteration 28: \n",
      "\t{'target': -17.889564106691125, 'params': {'x': 2.170088422739556, 'y': -2.7656713006027056}}\n",
      "Iteration 29: \n",
      "\t{'target': -6.084005905396599, 'params': {'x': 2.339660839129138, 'y': 2.2688550205764786}}\n",
      "Iteration 30: \n",
      "\t{'target': -5.996235815468081, 'params': {'x': 2.1966936676661, 'y': -0.4733542499696872}}\n",
      "Iteration 31: \n",
      "\t{'target': -3.0000028154770595, 'params': {'x': 2.0, 'y': 1.0016779383359937}}\n",
      "Iteration 32: \n",
      "\t{'target': -3.000001917558187, 'params': {'x': 2.0, 'y': 1.001384759252399}}\n",
      "Iteration 33: \n",
      "\t{'target': -3.000001218400664, 'params': {'x': 2.0, 'y': 1.0011038118789488}}\n",
      "Iteration 34: \n",
      "\t{'target': -3.0000006736214013, 'params': {'x': 2.0, 'y': 1.0008207444191228}}\n",
      "Iteration 35: \n",
      "\t{'target': -3.000000376578554, 'params': {'x': 2.0, 'y': 1.0006136599659818}}\n",
      "Iteration 36: \n",
      "\t{'target': -3.000000120351851, 'params': {'x': 2.0, 'y': 1.0003469176425903}}\n",
      "Iteration 37: \n",
      "\t{'target': -3.0000000028166216, 'params': {'x': 2.0, 'y': 1.0000530718527405}}\n",
      "Iteration 38: \n",
      "\t{'target': -3.000000450923685, 'params': {'x': 2.0, 'y': 0.9993284914857551}}\n",
      "Iteration 39: \n",
      "\t{'target': -14.9749399299999, 'params': {'x': 3.915779060301004, 'y': 0.19899170983810244}}\n",
      "Iteration 40: \n",
      "\t{'target': -14.888846469276057, 'params': {'x': 3.3837542279009467, 'y': -1.1069062139636223}}\n",
      "Iteration 41: \n",
      "\t{'target': -3.000003406607103, 'params': {'x': 2.0, 'y': 0.9981543003757153}}\n",
      "Iteration 42: \n",
      "\t{'target': -3.0000008197937387, 'params': {'x': 2.0, 'y': 0.9990945753819845}}\n",
      "Iteration 43: \n",
      "\t{'target': -3.000002348234198, 'params': {'x': 2.0, 'y': 1.0015323949223094}}\n"
     ]
    }
   ],
   "source": [
    "for i, res in enumerate(optimizer.res):\n",
    "    print(\"Iteration {}: \\n\\t{}\".format(i, res))"
   ]
  },
  {
   "cell_type": "markdown",
   "metadata": {},
   "source": [
    "### 2.1 Changing bounds\n",
    "\n",
    "During the optimization process you may realize the bounds chosen for some parameters are not adequate. For these situations you can invoke the method `set_bounds` to alter them. You can pass any combination of **existing** parameters and their associated new bounds."
   ]
  },
  {
   "cell_type": "code",
   "execution_count": 18,
   "metadata": {},
   "outputs": [],
   "source": [
    "optimizer.set_bounds(new_bounds={\"x\": (-2, 3)})"
   ]
  },
  {
   "cell_type": "code",
   "execution_count": 19,
   "metadata": {},
   "outputs": [
    {
     "name": "stdout",
     "output_type": "stream",
     "text": [
      "|   iter    |  target   |     x     |     y     |\n",
      "-------------------------------------------------\n",
      "| \u001b[0m 45      \u001b[0m | \u001b[0m-3.12    \u001b[0m | \u001b[0m-2.0     \u001b[0m | \u001b[0m 1.346   \u001b[0m |\n",
      "| \u001b[95m 46      \u001b[0m | \u001b[95m 0.9277  \u001b[0m | \u001b[95m-0.08189 \u001b[0m | \u001b[95m 0.7438  \u001b[0m |\n",
      "| \u001b[0m 47      \u001b[0m | \u001b[0m 0.3713  \u001b[0m | \u001b[0m-0.1329  \u001b[0m | \u001b[0m 1.782   \u001b[0m |\n",
      "| \u001b[0m 48      \u001b[0m | \u001b[0m 0.8686  \u001b[0m | \u001b[0m 0.3473  \u001b[0m | \u001b[0m 1.104   \u001b[0m |\n",
      "| \u001b[95m 49      \u001b[0m | \u001b[95m 0.9613  \u001b[0m | \u001b[95m-0.1455  \u001b[0m | \u001b[95m 1.133   \u001b[0m |\n",
      "=================================================\n"
     ]
    }
   ],
   "source": [
    "optimizer.maximize(\n",
    "    init_points=0,\n",
    "    n_iter=5,\n",
    ")"
   ]
  },
  {
   "cell_type": "markdown",
   "metadata": {},
   "source": [
    "## 3. Guiding the optimization\n",
    "\n",
    "It is often the case that we have an idea of regions of the parameter space where the maximum of our function might lie. For these situations the `BayesianOptimization` object allows the user to specify specific points to be probed. By default these will be explored lazily (`lazy=True`), meaning these points will be evaluated only the next time you call `maximize`. This probing process happens before the gaussian process takes over.\n",
    "\n",
    "Parameters can be passed as dictionaries such as below:"
   ]
  },
  {
   "cell_type": "code",
   "execution_count": 20,
   "metadata": {},
   "outputs": [],
   "source": [
    "optimizer.probe(\n",
    "    params={\"x\": 0.5, \"y\": 0.7},\n",
    "    lazy=True,\n",
    ")"
   ]
  },
  {
   "cell_type": "markdown",
   "metadata": {},
   "source": [
    "Or as an iterable. Beware that the order has to be alphabetical. You can usee `optimizer.space.keys` for guidance"
   ]
  },
  {
   "cell_type": "code",
   "execution_count": 21,
   "metadata": {},
   "outputs": [
    {
     "name": "stdout",
     "output_type": "stream",
     "text": [
      "['x', 'y']\n"
     ]
    }
   ],
   "source": [
    "print(optimizer.space.keys)"
   ]
  },
  {
   "cell_type": "code",
   "execution_count": 22,
   "metadata": {},
   "outputs": [],
   "source": [
    "optimizer.probe(\n",
    "    params=[-0.3, 0.1],\n",
    "    lazy=True,\n",
    ")"
   ]
  },
  {
   "cell_type": "code",
   "execution_count": 24,
   "metadata": {},
   "outputs": [
    {
     "name": "stdout",
     "output_type": "stream",
     "text": [
      "|   iter    |  target   |     x     |     y     |\n",
      "-------------------------------------------------\n",
      "| \u001b[0m 52      \u001b[0m | \u001b[0m-2.068   \u001b[0m | \u001b[0m 1.433   \u001b[0m | \u001b[0m 2.008   \u001b[0m |\n",
      "| \u001b[0m 53      \u001b[0m | \u001b[0m-2.893   \u001b[0m | \u001b[0m-1.909   \u001b[0m | \u001b[0m 1.501   \u001b[0m |\n",
      "| \u001b[95m 54      \u001b[0m | \u001b[95m 0.9972  \u001b[0m | \u001b[95m 0.05268 \u001b[0m | \u001b[95m 0.9974  \u001b[0m |\n",
      "| \u001b[95m 55      \u001b[0m | \u001b[95m 0.9988  \u001b[0m | \u001b[95m-0.03166 \u001b[0m | \u001b[95m 0.986   \u001b[0m |\n",
      "| \u001b[0m 56      \u001b[0m | \u001b[0m 0.9931  \u001b[0m | \u001b[0m 0.02231 \u001b[0m | \u001b[0m 1.08    \u001b[0m |\n",
      "=================================================\n"
     ]
    }
   ],
   "source": [
    "optimizer.maximize(init_points=2, n_iter=3)"
   ]
  },
  {
   "cell_type": "markdown",
   "metadata": {},
   "source": [
    "## 4. Saving, loading and restarting\n",
    "\n",
    "By default you can follow the progress of your optimization by setting `verbose>0` when instanciating the `BayesianOptimization` object. If you need more control over logging/alerting you will need to use an observer. For more information about observers checkout the advanced tour notebook. Here we will only see how to use the native `JSONLogger` object to save to and load progress from files.\n",
    "\n",
    "### 4.1 Saving progress"
   ]
  },
  {
   "cell_type": "code",
   "execution_count": 25,
   "metadata": {},
   "outputs": [],
   "source": [
    "from bayes_opt.logger import JSONLogger\n",
    "from bayes_opt.event import Events"
   ]
  },
  {
   "cell_type": "markdown",
   "metadata": {},
   "source": [
    "The observer paradigm works by:\n",
    "1. Instantiating an observer object.\n",
    "2. Tying the observer object to a particular event fired by an optimizer.\n",
    "\n",
    "The `BayesianOptimization` object fires a number of internal events during optimization, in particular, everytime it probes the function and obtains a new parameter-target combination it will fire an `Events.OPTIMIZATION_STEP` event, which our logger will listen to.\n",
    "\n",
    "**Caveat:** The logger will not look back at previously probed points."
   ]
  },
  {
   "cell_type": "code",
   "execution_count": 26,
   "metadata": {},
   "outputs": [],
   "source": [
    "logger = JSONLogger(path=\"./logs.json\")\n",
    "optimizer.subscribe(Events.OPTIMIZATION_STEP, logger)"
   ]
  },
  {
   "cell_type": "code",
   "execution_count": 16,
   "metadata": {},
   "outputs": [
    {
     "name": "stdout",
     "output_type": "stream",
     "text": [
      "|   iter    |  target   |     x     |     y     |\n",
      "-------------------------------------------------\n",
      "| \u001b[0m 13      \u001b[0m | \u001b[0m-12.48   \u001b[0m | \u001b[0m-1.266   \u001b[0m | \u001b[0m-2.446   \u001b[0m |\n",
      "| \u001b[0m 14      \u001b[0m | \u001b[0m-3.854   \u001b[0m | \u001b[0m-1.069   \u001b[0m | \u001b[0m-0.9266  \u001b[0m |\n",
      "| \u001b[0m 15      \u001b[0m | \u001b[0m 0.3932  \u001b[0m | \u001b[0m 0.3099  \u001b[0m | \u001b[0m 0.2853  \u001b[0m |\n",
      "| \u001b[95m 16      \u001b[0m | \u001b[95m 0.8768  \u001b[0m | \u001b[95m 0.02197 \u001b[0m | \u001b[95m 0.6497  \u001b[0m |\n",
      "| \u001b[95m 17      \u001b[0m | \u001b[95m 0.9446  \u001b[0m | \u001b[95m 0.198   \u001b[0m | \u001b[95m 0.8727  \u001b[0m |\n",
      "=================================================\n"
     ]
    }
   ],
   "source": [
    "optimizer.maximize(\n",
    "    init_points=2,\n",
    "    n_iter=3,\n",
    ")"
   ]
  },
  {
   "cell_type": "markdown",
   "metadata": {},
   "source": [
    "### 4.2 Loading progress\n",
    "\n",
    "Naturally, if you stored progress you will be able to load that onto a new instance of `BayesianOptimization`. The easiest way to do it is by invoking the `load_logs` function, from the `util` submodule."
   ]
  },
  {
   "cell_type": "code",
   "execution_count": 17,
   "metadata": {},
   "outputs": [],
   "source": [
    "from bayes_opt.util import load_logs"
   ]
  },
  {
   "cell_type": "code",
   "execution_count": 18,
   "metadata": {},
   "outputs": [
    {
     "name": "stdout",
     "output_type": "stream",
     "text": [
      "0\n"
     ]
    }
   ],
   "source": [
    "new_optimizer = BayesianOptimization(\n",
    "    f=black_box_function,\n",
    "    pbounds={\"x\": (-2, 2), \"y\": (-2, 2)},\n",
    "    verbose=2,\n",
    "    random_state=7,\n",
    ")\n",
    "print(len(new_optimizer.space))"
   ]
  },
  {
   "cell_type": "code",
   "execution_count": 19,
   "metadata": {},
   "outputs": [],
   "source": [
    "load_logs(new_optimizer, logs=[\"./logs.json\"]);"
   ]
  },
  {
   "cell_type": "code",
   "execution_count": 20,
   "metadata": {},
   "outputs": [
    {
     "name": "stdout",
     "output_type": "stream",
     "text": [
      "New optimizer is now aware of 5 points.\n"
     ]
    }
   ],
   "source": [
    "print(\"New optimizer is now aware of {} points.\".format(len(new_optimizer.space)))"
   ]
  },
  {
   "cell_type": "code",
   "execution_count": 21,
   "metadata": {},
   "outputs": [
    {
     "name": "stdout",
     "output_type": "stream",
     "text": [
      "|   iter    |  target   |     x     |     y     |\n",
      "-------------------------------------------------\n",
      "| \u001b[0m 1       \u001b[0m | \u001b[0m 0.6131  \u001b[0m | \u001b[0m 0.5571  \u001b[0m | \u001b[0m 0.7233  \u001b[0m |\n",
      "| \u001b[0m 2       \u001b[0m | \u001b[0m 0.8609  \u001b[0m | \u001b[0m-0.3295  \u001b[0m | \u001b[0m 1.175   \u001b[0m |\n",
      "| \u001b[0m 3       \u001b[0m | \u001b[0m 0.3761  \u001b[0m | \u001b[0m 0.2406  \u001b[0m | \u001b[0m 1.752   \u001b[0m |\n",
      "| \u001b[0m 4       \u001b[0m | \u001b[0m-0.7845  \u001b[0m | \u001b[0m-0.8972  \u001b[0m | \u001b[0m 1.99    \u001b[0m |\n",
      "| \u001b[0m 5       \u001b[0m | \u001b[0m 0.1401  \u001b[0m | \u001b[0m-0.8733  \u001b[0m | \u001b[0m 0.6882  \u001b[0m |\n",
      "| \u001b[0m 6       \u001b[0m | \u001b[0m-1.798   \u001b[0m | \u001b[0m 1.545   \u001b[0m | \u001b[0m 1.642   \u001b[0m |\n",
      "| \u001b[0m 7       \u001b[0m | \u001b[0m 0.9331  \u001b[0m | \u001b[0m 0.05549 \u001b[0m | \u001b[0m 1.253   \u001b[0m |\n",
      "| \u001b[0m 8       \u001b[0m | \u001b[0m-5.369   \u001b[0m | \u001b[0m 2.0     \u001b[0m | \u001b[0m-0.5391  \u001b[0m |\n",
      "| \u001b[95m 9       \u001b[0m | \u001b[95m 0.97    \u001b[0m | \u001b[95m-0.1587  \u001b[0m | \u001b[95m 0.9305  \u001b[0m |\n",
      "| \u001b[0m 10      \u001b[0m | \u001b[0m 0.7718  \u001b[0m | \u001b[0m 0.4293  \u001b[0m | \u001b[0m 1.21    \u001b[0m |\n",
      "=================================================\n"
     ]
    }
   ],
   "source": [
    "new_optimizer.maximize(\n",
    "    init_points=0,\n",
    "    n_iter=10,\n",
    ")"
   ]
  },
  {
   "cell_type": "markdown",
   "metadata": {},
   "source": [
    "## Next Steps\n",
    "\n",
    "This tour should be enough to cover most usage scenarios of this package. If, however, you feel like you need to know more, please checkout the `advanced-tour` notebook. There you will be able to find other, more advanced features of this package that could be what you're looking for. Also, browse the examples folder for implementation tips and ideas."
   ]
  }
 ],
 "metadata": {
  "kernelspec": {
   "display_name": "Python 3",
   "language": "python",
   "name": "python3"
  },
  "language_info": {
   "codemirror_mode": {
    "name": "ipython",
    "version": 3
   },
   "file_extension": ".py",
   "mimetype": "text/x-python",
   "name": "python",
   "nbconvert_exporter": "python",
   "pygments_lexer": "ipython3",
   "version": "3.9.7"
  }
 },
 "nbformat": 4,
 "nbformat_minor": 2
}
